{
  "nbformat": 4,
  "nbformat_minor": 0,
  "metadata": {
    "colab": {
      "provenance": [],
      "gpuType": "T4",
      "include_colab_link": true
    },
    "kernelspec": {
      "name": "python3",
      "display_name": "Python 3"
    },
    "language_info": {
      "name": "python"
    },
    "accelerator": "GPU"
  },
  "cells": [
    {
      "cell_type": "markdown",
      "metadata": {
        "id": "view-in-github",
        "colab_type": "text"
      },
      "source": [
        "<a href=\"https://colab.research.google.com/github/vigneshkashyap-tamu/CSCE636/blob/project/Contrastive_Language_Image_Pretraining_with_SogCLR.ipynb\" target=\"_parent\"><img src=\"https://colab.research.google.com/assets/colab-badge.svg\" alt=\"Open In Colab\"/></a>"
      ]
    },
    {
      "cell_type": "markdown",
      "source": [
        "# Contrastive Language-Image Pretraining with SogCLR"
      ],
      "metadata": {
        "id": "cwwBXvIbUXA_"
      }
    },
    {
      "cell_type": "markdown",
      "source": [
        "### **Introduction**\n",
        "\n",
        "In this tutorial, you will learn how to conduct contrastive language-image pretraining by optimizing the [Global Contrastive Loss](https://arxiv.org/abs/2202.12387) (GCL) on a subset of the [Conceptual Captions](https://ai.google.com/research/ConceptualCaptions/) dataset. Also, you will learn how to evaluate the model on retrieval task using the [MSCOCO](https://cocodataset.org/#home) dataset and zero-shot classification task using the [ImageNet](https://www.image-net.org/challenges/LSVRC/index.php) dataset. The code is based on [iSogCLR's](https://github.com/zhqiu/contrastive-learning-iSogCLR) codebase, which includes the implementation of CLIP, SogCLR and iSogCLR."
      ],
      "metadata": {
        "id": "kVyLXcCiUkeF"
      }
    },
    {
      "cell_type": "markdown",
      "source": [
        "### Preparation\n",
        "\n",
        "First, we:\n",
        "\n",
        "1. Download the source code and data\n",
        "2. Install required packages"
      ],
      "metadata": {
        "id": "DsO954DCVdgn"
      }
    },
    {
      "cell_type": "code",
      "execution_count": null,
      "metadata": {
        "id": "i3wc5FDn51l6"
      },
      "outputs": [],
      "source": [
        "!git clone -b project https://github.com/xywei00/csce689_iSogCLR.git iSogCLR\n",
        "\n",
        "!export PYTHONPATH=\"$PYTHONPATH:./iSogCLR/bimodal_exps\"\n",
        "!export HUGGINGFACE_HUB_CACHE='./checkpoints/huggingface'\n",
        "!mkdir checkpoints\n",
        "\n",
        "!gdown 142xxRoMaHxX3BIfCw_1b_G_dgu-02Yq3    # clip_train.tar.gz\n",
        "!gdown 142zQjlOw0Xw4tKzXMrQjYE6NtGRTeasT    # cc3m_subset_100k.tar.gz\n",
        "!gdown 142tMsnclHTTPpnTXHSeNgTUlBk4She6o    # ms_coco_val.tar.gz\n",
        "!gdown 1NXhfhwFy-nhdABACkodgYqm9pomDKE39    # val.tar\n",
        "\n",
        "!mkdir datasets\n",
        "!mkdir -p datasets/imagenet\n",
        "!tar xf clip_train.tar.gz\n",
        "!tar xf cc3m_subset_100k.tar.gz -C datasets\n",
        "!tar xf mscoco_val.tar.gz -C datasets\n",
        "!tar xf val.tar -C datasets/imagenet\n",
        "\n",
        "!pip install -r ./iSogCLR/requirements_colab.txt    # there may be pip warnings/ errors, should be fine to ignore them"
      ]
    },
    {
      "cell_type": "markdown",
      "source": [
        "### Training\n",
        "\n",
        "The following command runs the training script to train a ResNet50 (pretrained on ImageNet) and a DistilBERT (pretrained on BookCorpus and English Wikipedia) on the cc3m dataset using the SogCLR loss for 30 epochs with temperature 0.01."
      ],
      "metadata": {
        "id": "11x28L3vV2od"
      }
    },
    {
      "cell_type": "code",
      "source": [
        "!CUDA_VISIBLE_DEVICES=0 python ./iSogCLR/bimodal_exps/clip.py \\\n",
        "    --data_path ./datasets \\\n",
        "    --ann_path ./clip_train \\\n",
        "    --train_file cc3m_train_subset.json \\\n",
        "    --train_image_root cc3m_subset_100k \\\n",
        "    --output_dir output/sogclr_cc3m_g0.8_e30 \\\n",
        "    --init_model \\\n",
        "    --use_amp \\\n",
        "    --ita_type sogclr \\\n",
        "    --tau_init 0.01 \\\n",
        "    --sogclr_gamma 0.8 \\\n",
        "    --eta_init 0.03 --sched cosine \\\n",
        "    --no-distributed \\\n",
        "    --epochs 30"
      ],
      "metadata": {
        "id": "I4BjOwHiWP2u"
      },
      "execution_count": null,
      "outputs": []
    },
    {
      "cell_type": "markdown",
      "source": [
        "### Evaluation\n",
        "\n",
        "The following command runs the evaluation script to evaluate the retrieval performance of the trained model on the MSCOCO validation dataset and the zero-shot classification performance on the ImageNet validation dataset. The evaluation command is obtained by appending `--evaluate --checkpoint /path/to/your/checkpoint --zs_dataset imagenet --zs_datafolder /path/to/imagenet/val` to the training command."
      ],
      "metadata": {
        "id": "kmCh9QFuWx-t"
      }
    },
    {
      "cell_type": "code",
      "source": [
        "!CUDA_VISIBLE_DEVICES=0 python ./iSogCLR/bimodal_exps/clip.py \\\n",
        "    --data_path ./datasets \\\n",
        "    --ann_path ./clip_train \\\n",
        "    --train_file cc3m_train_subset.json \\\n",
        "    --train_image_root cc3m_subset_100k \\\n",
        "    --output_dir output/isogclr_cc3m_g0.8_e30 \\\n",
        "    --init_model \\\n",
        "    --use_amp \\\n",
        "    --ita_type sogclr \\\n",
        "    --tau_init 0.01 \\\n",
        "    --sogclr_gamma 0.8 \\\n",
        "    --eta_init 0.03 --sched cosine \\\n",
        "    --no-distributed \\\n",
        "    --epochs 30 \\\n",
        "    --evaluate --checkpoint './output/sogclr_cc3m_g0.8_e30/checkpoint_30.pth' \\\n",
        "    --zs_dataset imagenet --zs_datafolder ./datasets/imagenet/val"
      ],
      "metadata": {
        "id": "OdSq-cQwoork"
      },
      "execution_count": null,
      "outputs": []
    },
    {
      "cell_type": "markdown",
      "source": [
        "### Benchmarks\n",
        "\n",
        "The following results are recall at 1 results on the provided MSCOCO and ImageNet datasets. The first row of results are from the model trained using the CLIP loss, and the second row of results are from the model trained using the SogCLR loss. All results are based on a batch size of 128 for 30-epoch pretraining. IR@1 denotes the recall at 1 of image retrieval on MSCOCO, TR@1 denotes the recall at 1 of text retrieval on MSCOCO, and ACC@1 denotes the top 1 accuracy on ImageNet. Average denotes the average of the three metrics.\n",
        "\n",
        "| Method | MSCOCO TR@1 | MSCOCO IR@1 | ImageNet ACC@1 | Average |\n",
        "|:----------:|:--------:|:--------:|:--------:|:--------:|\n",
        "| CLIP | 12.0 | 9.32 | 21.35 | 14.22 |\n",
        "| SogCLR |  14.38  |  10.73  | 24.54 | 16.55 |"
      ],
      "metadata": {
        "id": "B4tw47loXXPK"
      }
    }
  ]
}